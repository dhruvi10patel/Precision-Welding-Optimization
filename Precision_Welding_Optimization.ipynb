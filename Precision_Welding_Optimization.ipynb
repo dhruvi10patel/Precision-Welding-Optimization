{
 "cells": [
  {
   "cell_type": "code",
   "execution_count": 3,
   "id": "a5f65a9a",
   "metadata": {},
   "outputs": [],
   "source": [
    "import pandas as pd\n",
    "import numpy as np\n",
    "import matplotlib.pyplot as plt\n",
    "import seaborn as sns\n",
    "from sklearn.preprocessing import MinMaxScaler\n",
    "from sklearn.model_selection import train_test_split\n",
    "from imblearn.over_sampling import SMOTE\n",
    "from sklearn.linear_model import LogisticRegression\n",
    "from sklearn.tree import DecisionTreeClassifier\n",
    "from sklearn.ensemble import RandomForestClassifier\n",
    "from sklearn.svm import SVC\n",
    "from sklearn.metrics import accuracy_score, classification_report, roc_auc_score\n",
    "import pickle"
   ]
  },
  {
   "cell_type": "code",
   "execution_count": 4,
   "id": "f926f24b",
   "metadata": {},
   "outputs": [],
   "source": [
    "df = pd.read_csv('Data_RSW.csv')"
   ]
  },
  {
   "cell_type": "code",
   "execution_count": 5,
   "id": "09986da7",
   "metadata": {},
   "outputs": [
    {
     "data": {
      "text/html": [
       "<div>\n",
       "<style scoped>\n",
       "    .dataframe tbody tr th:only-of-type {\n",
       "        vertical-align: middle;\n",
       "    }\n",
       "\n",
       "    .dataframe tbody tr th {\n",
       "        vertical-align: top;\n",
       "    }\n",
       "\n",
       "    .dataframe thead th {\n",
       "        text-align: right;\n",
       "    }\n",
       "</style>\n",
       "<table border=\"1\" class=\"dataframe\">\n",
       "  <thead>\n",
       "    <tr style=\"text-align: right;\">\n",
       "      <th></th>\n",
       "      <th>Sample ID</th>\n",
       "      <th>Pressure (PSI)</th>\n",
       "      <th>Welding Time (ms)</th>\n",
       "      <th>Angle (Deg)</th>\n",
       "      <th>Force (N)</th>\n",
       "      <th>Current (A)</th>\n",
       "      <th>Thickness A (mm)</th>\n",
       "      <th>Thickness B (mm)</th>\n",
       "      <th>Material</th>\n",
       "      <th>PullTest (N)</th>\n",
       "      <th>NuggetDiameter (mm)</th>\n",
       "      <th>Category</th>\n",
       "      <th>Comments</th>\n",
       "    </tr>\n",
       "  </thead>\n",
       "  <tbody>\n",
       "    <tr>\n",
       "      <th>0</th>\n",
       "      <td>1</td>\n",
       "      <td>35</td>\n",
       "      <td>200</td>\n",
       "      <td>0</td>\n",
       "      <td>0.00</td>\n",
       "      <td>1315.41</td>\n",
       "      <td>0.922</td>\n",
       "      <td>0.920</td>\n",
       "      <td>SS</td>\n",
       "      <td>2127.7</td>\n",
       "      <td>2.63</td>\n",
       "      <td>Bad</td>\n",
       "      <td>DOE</td>\n",
       "    </tr>\n",
       "    <tr>\n",
       "      <th>1</th>\n",
       "      <td>1</td>\n",
       "      <td>35</td>\n",
       "      <td>200</td>\n",
       "      <td>0</td>\n",
       "      <td>3.41</td>\n",
       "      <td>1337.45</td>\n",
       "      <td>0.922</td>\n",
       "      <td>0.920</td>\n",
       "      <td>SS</td>\n",
       "      <td>2127.7</td>\n",
       "      <td>2.63</td>\n",
       "      <td>Bad</td>\n",
       "      <td>DOE</td>\n",
       "    </tr>\n",
       "    <tr>\n",
       "      <th>2</th>\n",
       "      <td>1</td>\n",
       "      <td>35</td>\n",
       "      <td>200</td>\n",
       "      <td>0</td>\n",
       "      <td>6.82</td>\n",
       "      <td>1081.47</td>\n",
       "      <td>0.922</td>\n",
       "      <td>0.920</td>\n",
       "      <td>SS</td>\n",
       "      <td>2127.7</td>\n",
       "      <td>2.63</td>\n",
       "      <td>Bad</td>\n",
       "      <td>DOE</td>\n",
       "    </tr>\n",
       "    <tr>\n",
       "      <th>3</th>\n",
       "      <td>2</td>\n",
       "      <td>35</td>\n",
       "      <td>1500</td>\n",
       "      <td>0</td>\n",
       "      <td>0.00</td>\n",
       "      <td>1819.13</td>\n",
       "      <td>0.920</td>\n",
       "      <td>0.925</td>\n",
       "      <td>SS</td>\n",
       "      <td>5346.4</td>\n",
       "      <td>3.34</td>\n",
       "      <td>Good</td>\n",
       "      <td>DOE</td>\n",
       "    </tr>\n",
       "    <tr>\n",
       "      <th>4</th>\n",
       "      <td>2</td>\n",
       "      <td>35</td>\n",
       "      <td>1500</td>\n",
       "      <td>0</td>\n",
       "      <td>3.41</td>\n",
       "      <td>2016.44</td>\n",
       "      <td>0.920</td>\n",
       "      <td>0.925</td>\n",
       "      <td>SS</td>\n",
       "      <td>5346.4</td>\n",
       "      <td>3.34</td>\n",
       "      <td>Good</td>\n",
       "      <td>DOE</td>\n",
       "    </tr>\n",
       "  </tbody>\n",
       "</table>\n",
       "</div>"
      ],
      "text/plain": [
       "   Sample ID  Pressure (PSI)  Welding Time (ms)  Angle (Deg)  Force (N)  \\\n",
       "0          1              35                200            0       0.00   \n",
       "1          1              35                200            0       3.41   \n",
       "2          1              35                200            0       6.82   \n",
       "3          2              35               1500            0       0.00   \n",
       "4          2              35               1500            0       3.41   \n",
       "\n",
       "   Current (A)  Thickness A (mm)  Thickness B (mm) Material  PullTest (N)  \\\n",
       "0      1315.41             0.922             0.920       SS        2127.7   \n",
       "1      1337.45             0.922             0.920       SS        2127.7   \n",
       "2      1081.47             0.922             0.920       SS        2127.7   \n",
       "3      1819.13             0.920             0.925       SS        5346.4   \n",
       "4      2016.44             0.920             0.925       SS        5346.4   \n",
       "\n",
       "   NuggetDiameter (mm) Category Comments  \n",
       "0                 2.63      Bad      DOE  \n",
       "1                 2.63      Bad      DOE  \n",
       "2                 2.63      Bad      DOE  \n",
       "3                 3.34     Good      DOE  \n",
       "4                 3.34     Good      DOE  "
      ]
     },
     "execution_count": 5,
     "metadata": {},
     "output_type": "execute_result"
    }
   ],
   "source": [
    "df.head()"
   ]
  },
  {
   "cell_type": "code",
   "execution_count": 6,
   "id": "1162092a",
   "metadata": {},
   "outputs": [],
   "source": [
    "df.drop(['Sample ID', 'Comments', 'Material'], axis=1, inplace=True)"
   ]
  },
  {
   "cell_type": "code",
   "execution_count": 7,
   "id": "3871e25a",
   "metadata": {},
   "outputs": [
    {
     "data": {
      "text/html": [
       "<div>\n",
       "<style scoped>\n",
       "    .dataframe tbody tr th:only-of-type {\n",
       "        vertical-align: middle;\n",
       "    }\n",
       "\n",
       "    .dataframe tbody tr th {\n",
       "        vertical-align: top;\n",
       "    }\n",
       "\n",
       "    .dataframe thead th {\n",
       "        text-align: right;\n",
       "    }\n",
       "</style>\n",
       "<table border=\"1\" class=\"dataframe\">\n",
       "  <thead>\n",
       "    <tr style=\"text-align: right;\">\n",
       "      <th></th>\n",
       "      <th>Pressure (PSI)</th>\n",
       "      <th>Welding Time (ms)</th>\n",
       "      <th>Angle (Deg)</th>\n",
       "      <th>Force (N)</th>\n",
       "      <th>Current (A)</th>\n",
       "      <th>Thickness A (mm)</th>\n",
       "      <th>Thickness B (mm)</th>\n",
       "      <th>PullTest (N)</th>\n",
       "      <th>NuggetDiameter (mm)</th>\n",
       "      <th>Category</th>\n",
       "    </tr>\n",
       "  </thead>\n",
       "  <tbody>\n",
       "    <tr>\n",
       "      <th>0</th>\n",
       "      <td>35</td>\n",
       "      <td>200</td>\n",
       "      <td>0</td>\n",
       "      <td>0.00</td>\n",
       "      <td>1315.41</td>\n",
       "      <td>0.922</td>\n",
       "      <td>0.920</td>\n",
       "      <td>2127.7</td>\n",
       "      <td>2.63</td>\n",
       "      <td>Bad</td>\n",
       "    </tr>\n",
       "    <tr>\n",
       "      <th>1</th>\n",
       "      <td>35</td>\n",
       "      <td>200</td>\n",
       "      <td>0</td>\n",
       "      <td>3.41</td>\n",
       "      <td>1337.45</td>\n",
       "      <td>0.922</td>\n",
       "      <td>0.920</td>\n",
       "      <td>2127.7</td>\n",
       "      <td>2.63</td>\n",
       "      <td>Bad</td>\n",
       "    </tr>\n",
       "    <tr>\n",
       "      <th>2</th>\n",
       "      <td>35</td>\n",
       "      <td>200</td>\n",
       "      <td>0</td>\n",
       "      <td>6.82</td>\n",
       "      <td>1081.47</td>\n",
       "      <td>0.922</td>\n",
       "      <td>0.920</td>\n",
       "      <td>2127.7</td>\n",
       "      <td>2.63</td>\n",
       "      <td>Bad</td>\n",
       "    </tr>\n",
       "    <tr>\n",
       "      <th>3</th>\n",
       "      <td>35</td>\n",
       "      <td>1500</td>\n",
       "      <td>0</td>\n",
       "      <td>0.00</td>\n",
       "      <td>1819.13</td>\n",
       "      <td>0.920</td>\n",
       "      <td>0.925</td>\n",
       "      <td>5346.4</td>\n",
       "      <td>3.34</td>\n",
       "      <td>Good</td>\n",
       "    </tr>\n",
       "    <tr>\n",
       "      <th>4</th>\n",
       "      <td>35</td>\n",
       "      <td>1500</td>\n",
       "      <td>0</td>\n",
       "      <td>3.41</td>\n",
       "      <td>2016.44</td>\n",
       "      <td>0.920</td>\n",
       "      <td>0.925</td>\n",
       "      <td>5346.4</td>\n",
       "      <td>3.34</td>\n",
       "      <td>Good</td>\n",
       "    </tr>\n",
       "  </tbody>\n",
       "</table>\n",
       "</div>"
      ],
      "text/plain": [
       "   Pressure (PSI)  Welding Time (ms)  Angle (Deg)  Force (N)  Current (A)  \\\n",
       "0              35                200            0       0.00      1315.41   \n",
       "1              35                200            0       3.41      1337.45   \n",
       "2              35                200            0       6.82      1081.47   \n",
       "3              35               1500            0       0.00      1819.13   \n",
       "4              35               1500            0       3.41      2016.44   \n",
       "\n",
       "   Thickness A (mm)  Thickness B (mm)  PullTest (N)  NuggetDiameter (mm)  \\\n",
       "0             0.922             0.920        2127.7                 2.63   \n",
       "1             0.922             0.920        2127.7                 2.63   \n",
       "2             0.922             0.920        2127.7                 2.63   \n",
       "3             0.920             0.925        5346.4                 3.34   \n",
       "4             0.920             0.925        5346.4                 3.34   \n",
       "\n",
       "  Category  \n",
       "0      Bad  \n",
       "1      Bad  \n",
       "2      Bad  \n",
       "3     Good  \n",
       "4     Good  "
      ]
     },
     "execution_count": 7,
     "metadata": {},
     "output_type": "execute_result"
    }
   ],
   "source": [
    "df.head()"
   ]
  },
  {
   "cell_type": "markdown",
   "id": "27d05298",
   "metadata": {},
   "source": [
    "# EDA - Exploratory Data Analysis"
   ]
  },
  {
   "cell_type": "markdown",
   "id": "100e9820",
   "metadata": {},
   "source": [
    "# Descriptive Analysis"
   ]
  },
  {
   "cell_type": "code",
   "execution_count": 8,
   "id": "08db7e7a",
   "metadata": {},
   "outputs": [
    {
     "data": {
      "text/plain": [
       "(4186, 10)"
      ]
     },
     "execution_count": 8,
     "metadata": {},
     "output_type": "execute_result"
    }
   ],
   "source": [
    "df.shape"
   ]
  },
  {
   "cell_type": "code",
   "execution_count": 9,
   "id": "cf4cde6c",
   "metadata": {},
   "outputs": [
    {
     "data": {
      "text/plain": [
       "Pressure (PSI)         0\n",
       "Welding Time (ms)      0\n",
       "Angle (Deg)            0\n",
       "Force (N)              0\n",
       "Current (A)            0\n",
       "Thickness A (mm)       0\n",
       "Thickness B (mm)       0\n",
       "PullTest (N)           0\n",
       "NuggetDiameter (mm)    0\n",
       "Category               0\n",
       "dtype: int64"
      ]
     },
     "execution_count": 9,
     "metadata": {},
     "output_type": "execute_result"
    }
   ],
   "source": [
    "df.isnull().sum()"
   ]
  },
  {
   "cell_type": "code",
   "execution_count": 10,
   "id": "66885441",
   "metadata": {},
   "outputs": [
    {
     "data": {
      "text/plain": [
       "Pressure (PSI)         False\n",
       "Welding Time (ms)      False\n",
       "Angle (Deg)            False\n",
       "Force (N)              False\n",
       "Current (A)            False\n",
       "Thickness A (mm)       False\n",
       "Thickness B (mm)       False\n",
       "PullTest (N)           False\n",
       "NuggetDiameter (mm)    False\n",
       "Category               False\n",
       "dtype: bool"
      ]
     },
     "execution_count": 10,
     "metadata": {},
     "output_type": "execute_result"
    }
   ],
   "source": [
    "df.isnull().any()"
   ]
  },
  {
   "cell_type": "code",
   "execution_count": 11,
   "id": "63ab5ae7",
   "metadata": {},
   "outputs": [
    {
     "name": "stdout",
     "output_type": "stream",
     "text": [
      "<class 'pandas.core.frame.DataFrame'>\n",
      "RangeIndex: 4186 entries, 0 to 4185\n",
      "Data columns (total 10 columns):\n",
      " #   Column               Non-Null Count  Dtype  \n",
      "---  ------               --------------  -----  \n",
      " 0   Pressure (PSI)       4186 non-null   int64  \n",
      " 1   Welding Time (ms)    4186 non-null   int64  \n",
      " 2   Angle (Deg)          4186 non-null   int64  \n",
      " 3   Force (N)            4186 non-null   float64\n",
      " 4   Current (A)          4186 non-null   float64\n",
      " 5   Thickness A (mm)     4186 non-null   float64\n",
      " 6   Thickness B (mm)     4186 non-null   float64\n",
      " 7   PullTest (N)         4186 non-null   float64\n",
      " 8   NuggetDiameter (mm)  4186 non-null   float64\n",
      " 9   Category             4186 non-null   object \n",
      "dtypes: float64(6), int64(3), object(1)\n",
      "memory usage: 327.2+ KB\n"
     ]
    }
   ],
   "source": [
    "df.info()"
   ]
  },
  {
   "cell_type": "code",
   "execution_count": 12,
   "id": "5bab2660",
   "metadata": {},
   "outputs": [
    {
     "data": {
      "text/html": [
       "<div>\n",
       "<style scoped>\n",
       "    .dataframe tbody tr th:only-of-type {\n",
       "        vertical-align: middle;\n",
       "    }\n",
       "\n",
       "    .dataframe tbody tr th {\n",
       "        vertical-align: top;\n",
       "    }\n",
       "\n",
       "    .dataframe thead th {\n",
       "        text-align: right;\n",
       "    }\n",
       "</style>\n",
       "<table border=\"1\" class=\"dataframe\">\n",
       "  <thead>\n",
       "    <tr style=\"text-align: right;\">\n",
       "      <th></th>\n",
       "      <th>Pressure (PSI)</th>\n",
       "      <th>Welding Time (ms)</th>\n",
       "      <th>Angle (Deg)</th>\n",
       "      <th>Force (N)</th>\n",
       "      <th>Current (A)</th>\n",
       "      <th>Thickness A (mm)</th>\n",
       "      <th>Thickness B (mm)</th>\n",
       "      <th>PullTest (N)</th>\n",
       "      <th>NuggetDiameter (mm)</th>\n",
       "    </tr>\n",
       "  </thead>\n",
       "  <tbody>\n",
       "    <tr>\n",
       "      <th>count</th>\n",
       "      <td>4186.000000</td>\n",
       "      <td>4186.000000</td>\n",
       "      <td>4186.000000</td>\n",
       "      <td>4186.000000</td>\n",
       "      <td>4186.000000</td>\n",
       "      <td>4186.000000</td>\n",
       "      <td>4186.000000</td>\n",
       "      <td>4186.00000</td>\n",
       "      <td>4186.000000</td>\n",
       "    </tr>\n",
       "    <tr>\n",
       "      <th>mean</th>\n",
       "      <td>65.590062</td>\n",
       "      <td>875.298614</td>\n",
       "      <td>7.514333</td>\n",
       "      <td>91.217286</td>\n",
       "      <td>3019.032711</td>\n",
       "      <td>2.289362</td>\n",
       "      <td>3.501072</td>\n",
       "      <td>3032.96204</td>\n",
       "      <td>3.577721</td>\n",
       "    </tr>\n",
       "    <tr>\n",
       "      <th>std</th>\n",
       "      <td>11.780475</td>\n",
       "      <td>303.025712</td>\n",
       "      <td>7.500882</td>\n",
       "      <td>19.300206</td>\n",
       "      <td>844.557376</td>\n",
       "      <td>31.916085</td>\n",
       "      <td>42.217941</td>\n",
       "      <td>521.44465</td>\n",
       "      <td>0.393631</td>\n",
       "    </tr>\n",
       "    <tr>\n",
       "      <th>min</th>\n",
       "      <td>35.000000</td>\n",
       "      <td>200.000000</td>\n",
       "      <td>0.000000</td>\n",
       "      <td>-99.000000</td>\n",
       "      <td>-99.000000</td>\n",
       "      <td>0.610000</td>\n",
       "      <td>0.608000</td>\n",
       "      <td>1410.30000</td>\n",
       "      <td>1.900000</td>\n",
       "    </tr>\n",
       "    <tr>\n",
       "      <th>25%</th>\n",
       "      <td>60.000000</td>\n",
       "      <td>600.000000</td>\n",
       "      <td>0.000000</td>\n",
       "      <td>78.890000</td>\n",
       "      <td>2663.300000</td>\n",
       "      <td>0.623000</td>\n",
       "      <td>0.623000</td>\n",
       "      <td>2783.60000</td>\n",
       "      <td>3.350000</td>\n",
       "    </tr>\n",
       "    <tr>\n",
       "      <th>50%</th>\n",
       "      <td>60.000000</td>\n",
       "      <td>800.000000</td>\n",
       "      <td>15.000000</td>\n",
       "      <td>95.010000</td>\n",
       "      <td>3155.460000</td>\n",
       "      <td>0.631000</td>\n",
       "      <td>0.630000</td>\n",
       "      <td>2994.10000</td>\n",
       "      <td>3.570000</td>\n",
       "    </tr>\n",
       "    <tr>\n",
       "      <th>75%</th>\n",
       "      <td>80.000000</td>\n",
       "      <td>1000.000000</td>\n",
       "      <td>15.000000</td>\n",
       "      <td>103.677500</td>\n",
       "      <td>3571.340000</td>\n",
       "      <td>0.638000</td>\n",
       "      <td>0.635000</td>\n",
       "      <td>3141.80000</td>\n",
       "      <td>3.757500</td>\n",
       "    </tr>\n",
       "    <tr>\n",
       "      <th>max</th>\n",
       "      <td>95.000000</td>\n",
       "      <td>1500.000000</td>\n",
       "      <td>15.000000</td>\n",
       "      <td>133.530000</td>\n",
       "      <td>5009.430000</td>\n",
       "      <td>624.000000</td>\n",
       "      <td>632.000000</td>\n",
       "      <td>5806.50000</td>\n",
       "      <td>4.720000</td>\n",
       "    </tr>\n",
       "  </tbody>\n",
       "</table>\n",
       "</div>"
      ],
      "text/plain": [
       "       Pressure (PSI)  Welding Time (ms)  Angle (Deg)    Force (N)  \\\n",
       "count     4186.000000        4186.000000  4186.000000  4186.000000   \n",
       "mean        65.590062         875.298614     7.514333    91.217286   \n",
       "std         11.780475         303.025712     7.500882    19.300206   \n",
       "min         35.000000         200.000000     0.000000   -99.000000   \n",
       "25%         60.000000         600.000000     0.000000    78.890000   \n",
       "50%         60.000000         800.000000    15.000000    95.010000   \n",
       "75%         80.000000        1000.000000    15.000000   103.677500   \n",
       "max         95.000000        1500.000000    15.000000   133.530000   \n",
       "\n",
       "       Current (A)  Thickness A (mm)  Thickness B (mm)  PullTest (N)  \\\n",
       "count  4186.000000       4186.000000       4186.000000    4186.00000   \n",
       "mean   3019.032711          2.289362          3.501072    3032.96204   \n",
       "std     844.557376         31.916085         42.217941     521.44465   \n",
       "min     -99.000000          0.610000          0.608000    1410.30000   \n",
       "25%    2663.300000          0.623000          0.623000    2783.60000   \n",
       "50%    3155.460000          0.631000          0.630000    2994.10000   \n",
       "75%    3571.340000          0.638000          0.635000    3141.80000   \n",
       "max    5009.430000        624.000000        632.000000    5806.50000   \n",
       "\n",
       "       NuggetDiameter (mm)  \n",
       "count          4186.000000  \n",
       "mean              3.577721  \n",
       "std               0.393631  \n",
       "min               1.900000  \n",
       "25%               3.350000  \n",
       "50%               3.570000  \n",
       "75%               3.757500  \n",
       "max               4.720000  "
      ]
     },
     "execution_count": 12,
     "metadata": {},
     "output_type": "execute_result"
    }
   ],
   "source": [
    "df.describe()"
   ]
  },
  {
   "cell_type": "code",
   "execution_count": 13,
   "id": "192fac72",
   "metadata": {},
   "outputs": [
    {
     "data": {
      "text/plain": [
       "Good       3814\n",
       "Explode     284\n",
       "Bad          88\n",
       "Name: Category, dtype: int64"
      ]
     },
     "execution_count": 13,
     "metadata": {},
     "output_type": "execute_result"
    }
   ],
   "source": [
    "df['Category'].value_counts()"
   ]
  },
  {
   "cell_type": "code",
   "execution_count": 14,
   "id": "669f1f28",
   "metadata": {},
   "outputs": [
    {
     "data": {
      "text/plain": [
       "60    2797\n",
       "80    1093\n",
       "95     149\n",
       "35     147\n",
       "Name: Pressure (PSI), dtype: int64"
      ]
     },
     "execution_count": 14,
     "metadata": {},
     "output_type": "execute_result"
    }
   ],
   "source": [
    "df['Pressure (PSI)'].value_counts()"
   ]
  },
  {
   "cell_type": "code",
   "execution_count": 15,
   "id": "5c31b989",
   "metadata": {},
   "outputs": [
    {
     "data": {
      "text/plain": [
       "1000    1048\n",
       "800      906\n",
       "1200     751\n",
       "600      685\n",
       "400      500\n",
       "1500     246\n",
       "200       50\n",
       "Name: Welding Time (ms), dtype: int64"
      ]
     },
     "execution_count": 15,
     "metadata": {},
     "output_type": "execute_result"
    }
   ],
   "source": [
    "df['Welding Time (ms)'].value_counts()"
   ]
  },
  {
   "cell_type": "code",
   "execution_count": 16,
   "id": "d38619a0",
   "metadata": {},
   "outputs": [
    {
     "data": {
      "text/plain": [
       "15    2097\n",
       "0     2089\n",
       "Name: Angle (Deg), dtype: int64"
      ]
     },
     "execution_count": 16,
     "metadata": {},
     "output_type": "execute_result"
    }
   ],
   "source": [
    "df['Angle (Deg)'].value_counts()"
   ]
  },
  {
   "cell_type": "code",
   "execution_count": 17,
   "id": "466be71d",
   "metadata": {},
   "outputs": [
    {
     "data": {
      "text/html": [
       "<div>\n",
       "<style scoped>\n",
       "    .dataframe tbody tr th:only-of-type {\n",
       "        vertical-align: middle;\n",
       "    }\n",
       "\n",
       "    .dataframe tbody tr th {\n",
       "        vertical-align: top;\n",
       "    }\n",
       "\n",
       "    .dataframe thead th {\n",
       "        text-align: right;\n",
       "    }\n",
       "</style>\n",
       "<table border=\"1\" class=\"dataframe\">\n",
       "  <thead>\n",
       "    <tr style=\"text-align: right;\">\n",
       "      <th></th>\n",
       "      <th>Pressure (PSI)</th>\n",
       "      <th>Welding Time (ms)</th>\n",
       "      <th>Angle (Deg)</th>\n",
       "      <th>Force (N)</th>\n",
       "      <th>Current (A)</th>\n",
       "      <th>Thickness A (mm)</th>\n",
       "      <th>Thickness B (mm)</th>\n",
       "      <th>PullTest (N)</th>\n",
       "      <th>NuggetDiameter (mm)</th>\n",
       "    </tr>\n",
       "  </thead>\n",
       "  <tbody>\n",
       "    <tr>\n",
       "      <th>Pressure (PSI)</th>\n",
       "      <td>1.000000</td>\n",
       "      <td>-0.079988</td>\n",
       "      <td>-0.444454</td>\n",
       "      <td>0.526777</td>\n",
       "      <td>-0.121048</td>\n",
       "      <td>0.062835</td>\n",
       "      <td>0.082659</td>\n",
       "      <td>-0.144020</td>\n",
       "      <td>-0.166265</td>\n",
       "    </tr>\n",
       "    <tr>\n",
       "      <th>Welding Time (ms)</th>\n",
       "      <td>-0.079988</td>\n",
       "      <td>1.000000</td>\n",
       "      <td>-0.009779</td>\n",
       "      <td>-0.126018</td>\n",
       "      <td>-0.096344</td>\n",
       "      <td>0.022027</td>\n",
       "      <td>0.009871</td>\n",
       "      <td>0.568349</td>\n",
       "      <td>0.433629</td>\n",
       "    </tr>\n",
       "    <tr>\n",
       "      <th>Angle (Deg)</th>\n",
       "      <td>-0.444454</td>\n",
       "      <td>-0.009779</td>\n",
       "      <td>1.000000</td>\n",
       "      <td>-0.348471</td>\n",
       "      <td>0.210617</td>\n",
       "      <td>-0.051503</td>\n",
       "      <td>-0.067701</td>\n",
       "      <td>0.187748</td>\n",
       "      <td>0.089211</td>\n",
       "    </tr>\n",
       "    <tr>\n",
       "      <th>Force (N)</th>\n",
       "      <td>0.526777</td>\n",
       "      <td>-0.126018</td>\n",
       "      <td>-0.348471</td>\n",
       "      <td>1.000000</td>\n",
       "      <td>0.132544</td>\n",
       "      <td>0.039265</td>\n",
       "      <td>0.059970</td>\n",
       "      <td>-0.355472</td>\n",
       "      <td>-0.152311</td>\n",
       "    </tr>\n",
       "    <tr>\n",
       "      <th>Current (A)</th>\n",
       "      <td>-0.121048</td>\n",
       "      <td>-0.096344</td>\n",
       "      <td>0.210617</td>\n",
       "      <td>0.132544</td>\n",
       "      <td>1.000000</td>\n",
       "      <td>-0.029310</td>\n",
       "      <td>-0.007450</td>\n",
       "      <td>-0.319442</td>\n",
       "      <td>0.011392</td>\n",
       "    </tr>\n",
       "    <tr>\n",
       "      <th>Thickness A (mm)</th>\n",
       "      <td>0.062835</td>\n",
       "      <td>0.022027</td>\n",
       "      <td>-0.051503</td>\n",
       "      <td>0.039265</td>\n",
       "      <td>-0.029310</td>\n",
       "      <td>1.000000</td>\n",
       "      <td>-0.003526</td>\n",
       "      <td>-0.033187</td>\n",
       "      <td>-0.029469</td>\n",
       "    </tr>\n",
       "    <tr>\n",
       "      <th>Thickness B (mm)</th>\n",
       "      <td>0.082659</td>\n",
       "      <td>0.009871</td>\n",
       "      <td>-0.067701</td>\n",
       "      <td>0.059970</td>\n",
       "      <td>-0.007450</td>\n",
       "      <td>-0.003526</td>\n",
       "      <td>1.000000</td>\n",
       "      <td>-0.015153</td>\n",
       "      <td>-0.060979</td>\n",
       "    </tr>\n",
       "    <tr>\n",
       "      <th>PullTest (N)</th>\n",
       "      <td>-0.144020</td>\n",
       "      <td>0.568349</td>\n",
       "      <td>0.187748</td>\n",
       "      <td>-0.355472</td>\n",
       "      <td>-0.319442</td>\n",
       "      <td>-0.033187</td>\n",
       "      <td>-0.015153</td>\n",
       "      <td>1.000000</td>\n",
       "      <td>0.491057</td>\n",
       "    </tr>\n",
       "    <tr>\n",
       "      <th>NuggetDiameter (mm)</th>\n",
       "      <td>-0.166265</td>\n",
       "      <td>0.433629</td>\n",
       "      <td>0.089211</td>\n",
       "      <td>-0.152311</td>\n",
       "      <td>0.011392</td>\n",
       "      <td>-0.029469</td>\n",
       "      <td>-0.060979</td>\n",
       "      <td>0.491057</td>\n",
       "      <td>1.000000</td>\n",
       "    </tr>\n",
       "  </tbody>\n",
       "</table>\n",
       "</div>"
      ],
      "text/plain": [
       "                     Pressure (PSI)  Welding Time (ms)  Angle (Deg)  \\\n",
       "Pressure (PSI)             1.000000          -0.079988    -0.444454   \n",
       "Welding Time (ms)         -0.079988           1.000000    -0.009779   \n",
       "Angle (Deg)               -0.444454          -0.009779     1.000000   \n",
       "Force (N)                  0.526777          -0.126018    -0.348471   \n",
       "Current (A)               -0.121048          -0.096344     0.210617   \n",
       "Thickness A (mm)           0.062835           0.022027    -0.051503   \n",
       "Thickness B (mm)           0.082659           0.009871    -0.067701   \n",
       "PullTest (N)              -0.144020           0.568349     0.187748   \n",
       "NuggetDiameter (mm)       -0.166265           0.433629     0.089211   \n",
       "\n",
       "                     Force (N)  Current (A)  Thickness A (mm)  \\\n",
       "Pressure (PSI)        0.526777    -0.121048          0.062835   \n",
       "Welding Time (ms)    -0.126018    -0.096344          0.022027   \n",
       "Angle (Deg)          -0.348471     0.210617         -0.051503   \n",
       "Force (N)             1.000000     0.132544          0.039265   \n",
       "Current (A)           0.132544     1.000000         -0.029310   \n",
       "Thickness A (mm)      0.039265    -0.029310          1.000000   \n",
       "Thickness B (mm)      0.059970    -0.007450         -0.003526   \n",
       "PullTest (N)         -0.355472    -0.319442         -0.033187   \n",
       "NuggetDiameter (mm)  -0.152311     0.011392         -0.029469   \n",
       "\n",
       "                     Thickness B (mm)  PullTest (N)  NuggetDiameter (mm)  \n",
       "Pressure (PSI)               0.082659     -0.144020            -0.166265  \n",
       "Welding Time (ms)            0.009871      0.568349             0.433629  \n",
       "Angle (Deg)                 -0.067701      0.187748             0.089211  \n",
       "Force (N)                    0.059970     -0.355472            -0.152311  \n",
       "Current (A)                 -0.007450     -0.319442             0.011392  \n",
       "Thickness A (mm)            -0.003526     -0.033187            -0.029469  \n",
       "Thickness B (mm)             1.000000     -0.015153            -0.060979  \n",
       "PullTest (N)                -0.015153      1.000000             0.491057  \n",
       "NuggetDiameter (mm)         -0.060979      0.491057             1.000000  "
      ]
     },
     "execution_count": 17,
     "metadata": {},
     "output_type": "execute_result"
    }
   ],
   "source": [
    "df.corr()"
   ]
  },
  {
   "cell_type": "markdown",
   "id": "58a1d7e9",
   "metadata": {},
   "source": [
    "# Univariate Analysis"
   ]
  },
  {
   "cell_type": "code",
   "execution_count": 18,
   "id": "01191a5f",
   "metadata": {},
   "outputs": [
    {
     "data": {
      "image/png": "[encoded data removed]",
      "text/plain": [
       "<Figure size 640x480 with 1 Axes>"
      ]
     },
     "metadata": {},
     "output_type": "display_data"
    }
   ],
   "source": [
    "plt.pie(df['Category'].value_counts(),\n",
    "        labels = ['Good','Explode', 'Bad'], \n",
    "        autopct = '%1.1f%%',\n",
    "        colors = ['green','red','yellow'])\n",
    "plt.title('Category')\n",
    "plt.show()"
   ]
  },
  {
   "cell_type": "code",
   "execution_count": 19,
   "id": "8e85c123",
   "metadata": {},
   "outputs": [
    {
     "data": {
      "image/png": "[encoded data removed]",
      "text/plain": [
       "<Figure size 500x500 with 1 Axes>"
      ]
     },
     "metadata": {},
     "output_type": "display_data"
    }
   ],
   "source": [
    "sns.displot(df['Current (A)'], kde=True, color='teal')\n",
    "plt.title('Distribution of Current (in Amp)')\n",
    "plt.xlabel('Current (in Amp)')\n",
    "plt.ylabel('Frequency')\n",
    "plt.grid(True)\n",
    "plt.show()"
   ]
  },
  {
   "cell_type": "markdown",
   "id": "d49d4850",
   "metadata": {},
   "source": [
    "# Bivariate Analysis"
   ]
  },
  {
   "cell_type": "code",
   "execution_count": 20,
   "id": "697fb179",
   "metadata": {},
   "outputs": [
    {
     "data": {
      "image/png": "[encoded data removed]",
      "text/plain": [
       "<Figure size 600x400 with 1 Axes>"
      ]
     },
     "metadata": {},
     "output_type": "display_data"
    }
   ],
   "source": [
    "plt.figure(figsize=(6, 4))\n",
    "sns.scatterplot(data=df, x='Pressure (PSI)', y='Force (N)')\n",
    "plt.title('Scatter Plot of Pressure vs Force')\n",
    "plt.xlabel('Pressure (PSI)')\n",
    "plt.ylabel('Force (N)')\n",
    "plt.grid(True)\n",
    "plt.show()"
   ]
  },
  {
   "cell_type": "code",
   "execution_count": 21,
   "id": "fafc3a8c",
   "metadata": {},
   "outputs": [
    {
     "data": {
      "image/png": "[encoded data removed]",
      "text/plain": [
       "<Figure size 600x400 with 1 Axes>"
      ]
     },
     "metadata": {},
     "output_type": "display_data"
    }
   ],
   "source": [
    "plt.figure(figsize=(6, 4))\n",
    "sns.lineplot(data=df, x='Welding Time (ms)', y='Current (A)')\n",
    "plt.title('Line Plot of Welding Time vs Current')\n",
    "plt.xlabel('Welding Time (ms)')\n",
    "plt.ylabel('Current (A)')\n",
    "plt.grid(True)\n",
    "plt.show()"
   ]
  },
  {
   "cell_type": "code",
   "execution_count": 22,
   "id": "ddadf31c",
   "metadata": {},
   "outputs": [
    {
     "data": {
      "image/png": "[encoded data removed]",
      "text/plain": [
       "<Figure size 400x600 with 1 Axes>"
      ]
     },
     "metadata": {},
     "output_type": "display_data"
    }
   ],
   "source": [
    "plt.figure(figsize=(4, 6))\n",
    "colors = {'Good': 'green', 'Bad': 'yellow', 'Explode':'red'}\n",
    "sns.scatterplot(data=df, x='Category', y='NuggetDiameter (mm)',hue='Category', palette=colors)\n",
    "plt.title('Scatter Plot of Category vs Nugget Diameter')\n",
    "plt.xlabel('Category')\n",
    "plt.ylabel('Nugget Diameter (mm)')\n",
    "plt.legend(title='Category', loc='upper right')\n",
    "plt.grid(True)\n",
    "plt.show()"
   ]
  },
  {
   "cell_type": "markdown",
   "id": "dff6a823",
   "metadata": {},
   "source": [
    "# Multivariate Analysis"
   ]
  },
  {
   "cell_type": "code",
   "execution_count": null,
   "id": "54a030b8",
   "metadata": {},
   "outputs": [
    {
     "data": {
      "text/plain": [
       "<seaborn.axisgrid.PairGrid at 0x22602745488>"
      ]
     },
     "execution_count": 23,
     "metadata": {},
     "output_type": "execute_result"
    }
   ],
   "source": [
    "# multivariate analysis\n",
    "sns.pairplot(df)"
   ]
  },
  {
   "cell_type": "code",
   "execution_count": null,
   "id": "040b722e",
   "metadata": {},
   "outputs": [],
   "source": [
    "sns.heatmap(df.corr(), annot = True)"
   ]
  },
  {
   "cell_type": "markdown",
   "id": "377cc323",
   "metadata": {},
   "source": [
    "# Handling Outliers"
   ]
  },
  {
   "cell_type": "code",
   "execution_count": null,
   "id": "e00ad4d1",
   "metadata": {},
   "outputs": [],
   "source": [
    "plt.figure(figsize=(20, 8))\n",
    "sns.boxplot(data=df, orient='h')\n",
    "plt.title('Boxplot to Identify Outliers')\n",
    "plt.xlabel('Values')\n",
    "plt.ylabel('Variables')\n",
    "plt.show()"
   ]
  },
  {
   "cell_type": "code",
   "execution_count": null,
   "id": "18226ef7",
   "metadata": {},
   "outputs": [],
   "source": [
    "# Define a function to replace outliers with column means using percentiles\n",
    "def replace_outliers_with_mean_percentile(df, lower_percentile=5, upper_percentile=95):\n",
    "    for column in df.select_dtypes(include='number').columns:\n",
    "        # Calculate lower and upper percentiles\n",
    "        lower_bound = np.percentile(df[column], lower_percentile)\n",
    "        upper_bound = np.percentile(df[column], upper_percentile)\n",
    "        \n",
    "        # Identify outliers\n",
    "        outliers = (df[column] < lower_bound) | (df[column] > upper_bound)\n",
    "        \n",
    "        # Replace outliers with column mean\n",
    "        df.loc[outliers, column] = df[column].mean()\n",
    "\n",
    "# Call the function to replace outliers with column means using percentiles\n",
    "replace_outliers_with_mean_percentile(df)"
   ]
  },
  {
   "cell_type": "code",
   "execution_count": null,
   "id": "2ecadc16",
   "metadata": {},
   "outputs": [],
   "source": [
    "plt.figure(figsize=(20, 8))\n",
    "sns.boxplot(data=df, orient='h')\n",
    "plt.title('Boxplot to Identify Outliers')\n",
    "plt.xlabel('Values')\n",
    "plt.ylabel('Variables')\n",
    "plt.show()"
   ]
  },
  {
   "cell_type": "code",
   "execution_count": null,
   "id": "8e84cac7",
   "metadata": {},
   "outputs": [],
   "source": [
    "Q1_pull = df['PullTest (N)'].quantile(0.25)\n",
    "Q3_pull = df['PullTest (N)'].quantile(0.75)\n",
    "IQR_pull = Q3_pull - Q1_pull\n",
    "upper_bound_pull = Q1_pull + 1.5 * IQR_pull\n",
    "outliers_lower_whisker_pull = df[df['PullTest (N)'] > upper_bound_pull]\n",
    "df.loc[outliers_lower_whisker_pull.index, 'PullTest (N)'] = df['PullTest (N)'].mean()"
   ]
  },
  {
   "cell_type": "code",
   "execution_count": null,
   "id": "ac9a3a4f",
   "metadata": {},
   "outputs": [],
   "source": [
    "Q1_pull = df['Current (A)'].quantile(0.25)\n",
    "Q3_pull = df['Current (A)'].quantile(0.75)\n",
    "IQR_pull = Q3_pull - Q1_pull\n",
    "lower_bound_pull = Q1_pull - 1.5 * IQR_pull\n",
    "outliers_lower_whisker_pull = df[df['Current (A)'] < lower_bound_pull]\n",
    "df.loc[outliers_lower_whisker_pull.index, 'Current (A)'] = df['Current (A)'].mean()"
   ]
  },
  {
   "cell_type": "code",
   "execution_count": null,
   "id": "455833a4",
   "metadata": {},
   "outputs": [],
   "source": [
    "Q1_pull = df['Current (A)'].quantile(0.25)\n",
    "Q3_pull = df['Current (A)'].quantile(0.75)\n",
    "IQR_pull = Q3_pull - Q1_pull\n",
    "lower_bound_pull = Q1_pull - 1.5 * IQR_pull\n",
    "outliers_lower_whisker_pull = df[df['Current (A)'] < lower_bound_pull]\n",
    "df.loc[outliers_lower_whisker_pull.index, 'Current (A)'] = df['Current (A)'].mean()"
   ]
  },
  {
   "cell_type": "code",
   "execution_count": null,
   "id": "09dd53fc",
   "metadata": {},
   "outputs": [],
   "source": [
    "plt.figure(figsize=(20, 8))\n",
    "sns.boxplot(data=df, orient='h')\n",
    "plt.title('Boxplot to Identify Outliers')\n",
    "plt.xlabel('Values')\n",
    "plt.ylabel('Variables')\n",
    "plt.show()"
   ]
  },
  {
   "cell_type": "markdown",
   "id": "821c4a8d",
   "metadata": {},
   "source": [
    "# X and y Split"
   ]
  },
  {
   "cell_type": "code",
   "execution_count": null,
   "id": "22e4b3b0",
   "metadata": {},
   "outputs": [],
   "source": [
    "X = df.drop(columns = ['Category'], axis = 1)\n",
    "y = df['Category']"
   ]
  },
  {
   "cell_type": "code",
   "execution_count": null,
   "id": "c4e3e0f9",
   "metadata": {},
   "outputs": [],
   "source": [
    "X.head()"
   ]
  },
  {
   "cell_type": "code",
   "execution_count": null,
   "id": "c1bdc8d4",
   "metadata": {},
   "outputs": [],
   "source": [
    "y.head()"
   ]
  },
  {
   "cell_type": "markdown",
   "id": "6f09747a",
   "metadata": {},
   "source": [
    "# Data Scaling"
   ]
  },
  {
   "cell_type": "code",
   "execution_count": null,
   "id": "ac887960",
   "metadata": {},
   "outputs": [],
   "source": [
    "scale = MinMaxScaler() \n",
    "X_scaled = pd.DataFrame(scale.fit_transform(X), columns = X.columns)\n",
    "X_scaled.head()"
   ]
  },
  {
   "cell_type": "markdown",
   "id": "a7572c2e",
   "metadata": {},
   "source": [
    "# Train Test Split"
   ]
  },
  {
   "cell_type": "code",
   "execution_count": null,
   "id": "27944687",
   "metadata": {},
   "outputs": [],
   "source": [
    "X_train, X_test, y_train, y_test = train_test_split(X_scaled, y, test_size = 0.25, random_state = 0)\n",
    "\n",
    "print(X_train.shape)\n",
    "print(X_test.shape)\n",
    "print(y_train.shape)\n",
    "print(y_test.shape)"
   ]
  },
  {
   "cell_type": "markdown",
   "id": "2c3e8a66",
   "metadata": {},
   "source": [
    "# Balancing the Dataset"
   ]
  },
  {
   "cell_type": "code",
   "execution_count": null,
   "id": "6b83c5e6",
   "metadata": {},
   "outputs": [],
   "source": [
    "y_train.value_counts()"
   ]
  },
  {
   "cell_type": "code",
   "execution_count": null,
   "id": "e4809f7f",
   "metadata": {},
   "outputs": [],
   "source": [
    "smote = SMOTE()\n",
    "X_train, y_train = smote.fit_resample(X_train, y_train)\n",
    "y_train.value_counts()"
   ]
  },
  {
   "cell_type": "markdown",
   "id": "fcfd3d2e",
   "metadata": {},
   "source": [
    "# Model Building"
   ]
  },
  {
   "cell_type": "markdown",
   "id": "f74244f8",
   "metadata": {},
   "source": [
    "# Logistic Regression"
   ]
  },
  {
   "cell_type": "code",
   "execution_count": null,
   "id": "d41b4109",
   "metadata": {},
   "outputs": [],
   "source": [
    "from sklearn.linear_model import LogisticRegression\n",
    "model1 = LogisticRegression()\n",
    "model1.fit(X_train, y_train)"
   ]
  },
  {
   "cell_type": "code",
   "execution_count": null,
   "id": "87da5b67",
   "metadata": {},
   "outputs": [],
   "source": [
    "y_pred1 = model1.predict(X_test)\n",
    "y_pred1"
   ]
  },
  {
   "cell_type": "code",
   "execution_count": null,
   "id": "a8dfa12a",
   "metadata": {},
   "outputs": [],
   "source": [
    "y_pred_train1 = model1.predict(X_train)"
   ]
  },
  {
   "cell_type": "code",
   "execution_count": null,
   "id": "e0f03e50",
   "metadata": {},
   "outputs": [],
   "source": [
    "test_acc1 = accuracy_score(y_test, y_pred1)\n",
    "train_acc1 = accuracy_score(y_train, y_pred_train1)\n",
    "print('Testing Accuracy = ', test_acc1)\n",
    "print('Training Accuracy = ', train_acc1)"
   ]
  },
  {
   "cell_type": "code",
   "execution_count": null,
   "id": "1fe5c703",
   "metadata": {},
   "outputs": [],
   "source": [
    "probability = model1.predict_proba(X_test)\n",
    "roc_auc1 = roc_auc_score(y_test, probability, multi_class='ovr')\n",
    "print(\"ROC AUC score:\", roc_auc)"
   ]
  },
  {
   "cell_type": "code",
   "execution_count": null,
   "id": "d2d11c52",
   "metadata": {},
   "outputs": [],
   "source": [
    "pd.crosstab(y_test,y_pred1)"
   ]
  },
  {
   "cell_type": "code",
   "execution_count": null,
   "id": "5f699ed8",
   "metadata": {},
   "outputs": [],
   "source": [
    "# classification report\n",
    "print(classification_report(y_test,y_pred1))"
   ]
  },
  {
   "cell_type": "markdown",
   "id": "55d75154",
   "metadata": {},
   "source": [
    "# Decision Tree"
   ]
  },
  {
   "cell_type": "code",
   "execution_count": null,
   "id": "0ba50008",
   "metadata": {},
   "outputs": [],
   "source": [
    "from sklearn.tree import DecisionTreeClassifier\n",
    "model2 = DecisionTreeClassifier(max_depth = 4, splitter = 'best', criterion = 'entropy')\n",
    "model2.fit(X_train, y_train)"
   ]
  },
  {
   "cell_type": "code",
   "execution_count": null,
   "id": "d5d62716",
   "metadata": {},
   "outputs": [],
   "source": [
    "y_pred2 = model2.predict(X_test)\n",
    "y_pred2"
   ]
  },
  {
   "cell_type": "code",
   "execution_count": null,
   "id": "ff9492a2",
   "metadata": {},
   "outputs": [],
   "source": [
    "y_pred_train2 = model2.predict(X_train)"
   ]
  },
  {
   "cell_type": "code",
   "execution_count": null,
   "id": "08da09ed",
   "metadata": {},
   "outputs": [],
   "source": [
    "test_acc2 = accuracy_score(y_test, y_pred2)\n",
    "train_acc2 = accuracy_score(y_train, y_pred_train2)\n",
    "print('Testing Accuracy = ', test_acc2)\n",
    "print('Training Accuracy = ', train_acc2)"
   ]
  },
  {
   "cell_type": "code",
   "execution_count": null,
   "id": "a06d96a9",
   "metadata": {},
   "outputs": [],
   "source": [
    "probability = model2.predict_proba(X_test)\n",
    "roc_auc2 = roc_auc_score(y_test, probability, multi_class='ovr')\n",
    "print(\"ROC AUC score:\", roc_auc)"
   ]
  },
  {
   "cell_type": "code",
   "execution_count": null,
   "id": "6d74fd59",
   "metadata": {},
   "outputs": [],
   "source": [
    "pd.crosstab(y_test,y_pred2)"
   ]
  },
  {
   "cell_type": "code",
   "execution_count": null,
   "id": "dfb40d1f",
   "metadata": {},
   "outputs": [],
   "source": [
    "# classification report\n",
    "print(classification_report(y_test,y_pred2))"
   ]
  },
  {
   "cell_type": "markdown",
   "id": "d2b2dbde",
   "metadata": {},
   "source": [
    "# Random Forest"
   ]
  },
  {
   "cell_type": "code",
   "execution_count": null,
   "id": "e768a6b9",
   "metadata": {},
   "outputs": [],
   "source": [
    "from sklearn.ensemble import RandomForestClassifier\n",
    "model3 = RandomForestClassifier()\n",
    "model3.fit(X_train, y_train)"
   ]
  },
  {
   "cell_type": "code",
   "execution_count": null,
   "id": "b7d7e367",
   "metadata": {},
   "outputs": [],
   "source": [
    "y_pred3 = model3.predict(X_test)\n",
    "y_pred3"
   ]
  },
  {
   "cell_type": "code",
   "execution_count": null,
   "id": "b078e616",
   "metadata": {},
   "outputs": [],
   "source": [
    "y_pred_train3 = model3.predict(X_train)"
   ]
  },
  {
   "cell_type": "code",
   "execution_count": null,
   "id": "72e717a7",
   "metadata": {},
   "outputs": [],
   "source": [
    "test_acc3 = accuracy_score(y_test, y_pred3)\n",
    "train_acc3 = accuracy_score(y_train, y_pred_train3)\n",
    "print('Testing Accuracy = ', test_acc3)\n",
    "print('Training Accuracy = ', train_acc3)"
   ]
  },
  {
   "cell_type": "code",
   "execution_count": null,
   "id": "025ae30f",
   "metadata": {},
   "outputs": [],
   "source": [
    "probability = model3.predict_proba(X_test)\n",
    "roc_auc3 = roc_auc_score(y_test, probability, multi_class='ovr')\n",
    "print(\"ROC AUC score:\", roc_auc)"
   ]
  },
  {
   "cell_type": "code",
   "execution_count": null,
   "id": "ebf4a7dc",
   "metadata": {},
   "outputs": [],
   "source": [
    "pd.crosstab(y_test,y_pred3)"
   ]
  },
  {
   "cell_type": "code",
   "execution_count": null,
   "id": "ccfa2c12",
   "metadata": {},
   "outputs": [],
   "source": [
    "# classification report\n",
    "print(classification_report(y_test,y_pred3))"
   ]
  },
  {
   "cell_type": "markdown",
   "id": "bc84f8a8",
   "metadata": {},
   "source": [
    "# SVC"
   ]
  },
  {
   "cell_type": "code",
   "execution_count": null,
   "id": "bf8297bf",
   "metadata": {},
   "outputs": [],
   "source": [
    "from sklearn.svm import SVC\n",
    "model4 = SVC(probability=True)\n",
    "model4.fit(X_train, y_train)"
   ]
  },
  {
   "cell_type": "code",
   "execution_count": null,
   "id": "cb8e47ff",
   "metadata": {},
   "outputs": [],
   "source": [
    "y_pred4 = model4.predict(X_test)\n",
    "y_pred4"
   ]
  },
  {
   "cell_type": "code",
   "execution_count": null,
   "id": "6f743b32",
   "metadata": {},
   "outputs": [],
   "source": [
    "y_pred_train4 = model4.predict(X_train)"
   ]
  },
  {
   "cell_type": "code",
   "execution_count": null,
   "id": "4e7322b8",
   "metadata": {},
   "outputs": [],
   "source": [
    "test_acc4 = accuracy_score(y_test, y_pred4)\n",
    "train_acc4 = accuracy_score(y_train, y_pred_train4)\n",
    "print('Testing Accuracy = ', test_acc4)\n",
    "print('Training Accuracy = ', train_acc4)"
   ]
  },
  {
   "cell_type": "code",
   "execution_count": null,
   "id": "91763c92",
   "metadata": {},
   "outputs": [],
   "source": [
    "probability = model4.predict_proba(X_test)\n",
    "roc_auc4 = roc_auc_score(y_test, probability, multi_class='ovr')\n",
    "print(\"ROC AUC score:\", roc_auc)"
   ]
  },
  {
   "cell_type": "code",
   "execution_count": null,
   "id": "ad14f0dd",
   "metadata": {},
   "outputs": [],
   "source": [
    "pd.crosstab(y_test,y_pred4)"
   ]
  },
  {
   "cell_type": "code",
   "execution_count": null,
   "id": "ef5dbe40",
   "metadata": {},
   "outputs": [],
   "source": [
    "# classification report\n",
    "print(classification_report(y_test,y_pred4))"
   ]
  },
  {
   "cell_type": "markdown",
   "id": "f2f18c1d",
   "metadata": {},
   "source": [
    "# Selecting the best model"
   ]
  },
  {
   "cell_type": "code",
   "execution_count": null,
   "id": "04358e78",
   "metadata": {},
   "outputs": [],
   "source": [
    "models = ['Logistic Regression', 'Decision Tree', 'Random Forest', 'SVC']\n",
    "train_acc = [train_acc1, train_acc2, train_acc3, train_acc4]\n",
    "test_acc = [test_acc1, test_acc2, test_acc3, test_acc4]\n",
    "roc_auc = [roc_auc1, roc_auc2, roc_auc3, roc_auc4]\n",
    "\n",
    "df_results = pd.DataFrame({\n",
    "    'Model Name': model_names,\n",
    "    'Training Accuracy': train_acc,\n",
    "    'Testing Accuracy': test_acc,\n",
    "    'ROC AUC Score': roc_auc\n",
    "})\n",
    "\n",
    "df_results"
   ]
  },
  {
   "cell_type": "code",
   "execution_count": null,
   "id": "a7c4edf1",
   "metadata": {},
   "outputs": [],
   "source": [
    "fig, axs = plt.subplots(1, 3, figsize=(20, 5))\n",
    "\n",
    "# Plot Training Accuracy\n",
    "axs[0].bar(models, train_acc, color='skyblue')\n",
    "axs[0].set_title('Training Accuracy')\n",
    "axs[0].set_ylabel('Accuracy')\n",
    "\n",
    "# Plot Testing Accuracy\n",
    "axs[1].bar(models, test_acc, color='salmon')\n",
    "axs[1].set_title('Testing Accuracy')\n",
    "axs[1].set_ylabel('Accuracy')\n",
    "\n",
    "# Plot ROC AUC Score\n",
    "axs[2].bar(models, roc_auc, color='lightgreen')\n",
    "axs[2].set_title('ROC AUC Score')\n",
    "axs[2].set_ylabel('ROC AUC')\n",
    "\n",
    "plt.tight_layout()\n",
    "plt.show()"
   ]
  },
  {
   "cell_type": "markdown",
   "id": "d3b5ab05",
   "metadata": {},
   "source": [
    "The Random Forest model is the best because it achieved perfect accuracy on the training data and near-perfect accuracy on the testing data, along with a perfect ROC AUC score. This indicates that the model generalizes well to unseen data and has effectively captured the patterns in the dataset without overfitting."
   ]
  },
  {
   "cell_type": "markdown",
   "id": "569a457c",
   "metadata": {},
   "source": [
    "# Model Deployment"
   ]
  },
  {
   "cell_type": "code",
   "execution_count": null,
   "id": "16faf1d7",
   "metadata": {},
   "outputs": [],
   "source": [
    "import pickle\n",
    "pickle.dump(model3,open('Precision_Welding_Optimization.pkl','wb'))\n",
    "print('Pickle model downloaded successfully!!')"
   ]
  },
  {
   "cell_type": "markdown",
   "id": "3af858a5",
   "metadata": {},
   "source": [
    "# Test the Model"
   ]
  },
  {
   "cell_type": "code",
   "execution_count": null,
   "id": "bbeb89f6",
   "metadata": {},
   "outputs": [],
   "source": [
    "model3.predict(scale.transform([[35,200,0,0.00,1315.41,0.922,0.920,2127.7,2.63]]))"
   ]
  },
  {
   "cell_type": "code",
   "execution_count": null,
   "id": "22e83ddf",
   "metadata": {},
   "outputs": [],
   "source": [
    "model3.predict(scale.transform([[60,600,15,93.37,3637.78,0.622,3.501072,3097.6,3.43]]))"
   ]
  },
  {
   "cell_type": "code",
   "execution_count": null,
   "id": "db0b553a",
   "metadata": {},
   "outputs": [],
   "source": []
  }
 ],
 "metadata": {
  "kernelspec": {
   "display_name": "Python 3 (ipykernel)",
   "language": "python",
   "name": "python3"
  },
  "language_info": {
   "codemirror_mode": {
    "name": "ipython",
    "version": 3
   },
   "file_extension": ".py",
   "mimetype": "text/x-python",
   "name": "python",
   "nbconvert_exporter": "python",
   "pygments_lexer": "ipython3",
   "version": "3.7.16"
  }
 },
 "nbformat": 4,
 "nbformat_minor": 5
}
